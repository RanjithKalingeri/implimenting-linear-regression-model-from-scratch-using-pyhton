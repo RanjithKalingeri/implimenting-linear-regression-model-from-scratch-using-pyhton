{
  "nbformat": 4,
  "nbformat_minor": 0,
  "metadata": {
    "colab": {
      "name": "Linear Regression From Scratch ",
      "provenance": []
    },
    "kernelspec": {
      "name": "python3",
      "display_name": "Python 3"
    },
    "language_info": {
      "name": "python"
    }
  },
  "cells": [
    {
      "cell_type": "markdown",
      "metadata": {
        "id": "rPsbQnIIqLD7"
      },
      "source": [
        "#code to get coefficients "
      ]
    },
    {
      "cell_type": "code",
      "metadata": {
        "colab": {
          "base_uri": "https://localhost:8080/"
        },
        "id": "3800mooyp8Di",
        "outputId": "23ec81ac-e068-431e-d8dc-299952fe3a4c"
      },
      "source": [
        "import numpy as np\n",
        "\n",
        "# coefficient function takes three inputs ---> x is independent variable, y is dependent variable in linear regression, n is degree of polynomial\n",
        "# coefficient function returns the coefficients of nth degree polynomial \n",
        "\n",
        "def coefficients (n, x, y): \n",
        "    x = [float(item) for item in x]\n",
        "    y = [float(item) for item in y]\n",
        "    row = []\n",
        "    p =0\n",
        "    for j in range((n+1)*(n+1)):\n",
        "        ele =0\n",
        "        for i in range(len(x)):\n",
        "            ele += pow(x[i], p)\n",
        "        p = p+1\n",
        "        row.append(ele)\n",
        "    arr = np.empty((0,n+1), int)\n",
        "    for i in range(n+1):\n",
        "        arr = np.vstack((arr, row[i:i+n+1]))\n",
        "     \n",
        "    arr2 = np.empty((0,1), int)\n",
        "    \n",
        "    p1 = 0\n",
        "    for i in range(n+1): \n",
        "        sum =0\n",
        "        for j in range(len(x)): \n",
        "            sum+= y[j] * pow(x[j], p1)\n",
        "        arr2 = np.vstack((arr2, sum))\n",
        "        p1 = p1+1\n",
        "    #print(arr2)\n",
        "\n",
        "    arr_inv = np.linalg.inv(arr)\n",
        "    beta = np.dot(arr_inv, arr2)\n",
        "    return beta\n",
        "\n",
        "\n",
        "\n",
        "\n",
        "\n",
        "year = [2004, 2008, 2009, 2010, 2011, 2012, 2013, 2014, 2015, 2016, 2017]\n",
        "revenue = [61.2, 58.3, 67.1, 69.2, 68.9, 83.5, 89.1, 80, 92.3, 93, 97 ]\n",
        "\n",
        "man =coefficients(4, year, revenue)\n",
        "print(man)"
      ],
      "execution_count": 2,
      "outputs": [
        {
          "output_type": "stream",
          "text": [
            "[[-3.34627020e+07]\n",
            " [ 6.45509004e+04]\n",
            " [-4.64827512e+01]\n",
            " [ 1.48011257e-02]\n",
            " [-1.75729424e-06]]\n"
          ],
          "name": "stdout"
        }
      ]
    },
    {
      "cell_type": "markdown",
      "metadata": {
        "id": "nBeMOmirrCZ9"
      },
      "source": [
        "# code to predict y  "
      ]
    },
    {
      "cell_type": "code",
      "metadata": {
        "colab": {
          "base_uri": "https://localhost:8080/"
        },
        "id": "dI_TsLhMrUmZ",
        "outputId": "f726034f-bec6-4dac-c137-250d775e85e6"
      },
      "source": [
        "\n",
        "# get_y functions takes three inputs ----> dependent variable list, coefficients calculated, degree of polynomial\n",
        "# get_y returns ------> list of predicted values i.e dependent variable\n",
        "\n",
        "def get_y (x, beta, n):\n",
        "    y = []\n",
        "    for i in range(len(x)):\n",
        "        sum =0\n",
        "        p =0\n",
        "        for j in range(n+1):\n",
        "            sum += beta[j][0] * pow(x[i], p)\n",
        "            p = p+1\n",
        "        y.append(sum)\n",
        "    return y\n",
        "\n",
        "\n",
        "\n",
        "betaa =coefficients(1,year , revenue)\n",
        "\n",
        "\n",
        "print(get_y (year, betaa,1 ))"
      ],
      "execution_count": 4,
      "outputs": [
        {
          "output_type": "stream",
          "text": [
            "[52.799999999166175, 65.91999999849304, 69.19999999832453, 72.47999999815693, 75.75999999798842, 79.0399999978199, 82.3199999976514, 85.59999999748288, 88.87999999731528, 92.15999999714677, 95.43999999697826]\n"
          ],
          "name": "stdout"
        }
      ]
    },
    {
      "cell_type": "markdown",
      "metadata": {
        "id": "aU_hopQ5sOLN"
      },
      "source": [
        "# function to find validation error"
      ]
    },
    {
      "cell_type": "code",
      "metadata": {
        "id": "2oA67aeCsbKr"
      },
      "source": [
        "# validation error takes input ------> predicted values list and actual dependent values list \n",
        "# validation error returns ---------> validation error\n",
        "\n",
        "def validation_error(y_predicted, y_real):\n",
        "    validation_error = 0\n",
        "    \n",
        "    for i in range(len(y_predicted)):\n",
        "        out = y_predicted[i] - y_real[i] \n",
        "        out = out*out \n",
        "        validation_error+=out\n",
        "    return validation_error"
      ],
      "execution_count": 8,
      "outputs": []
    },
    {
      "cell_type": "markdown",
      "metadata": {
        "id": "6XJ4IJBas5xM"
      },
      "source": [
        "# get graph "
      ]
    },
    {
      "cell_type": "code",
      "metadata": {
        "colab": {
          "base_uri": "https://localhost:8080/",
          "height": 623
        },
        "id": "S1bX2yn1tKqN",
        "outputId": "caa3e998-2a86-4584-c561-9912664d81d0"
      },
      "source": [
        "import matplotlib.pyplot as plt \n",
        "# get_graph takes input -----> x is independent list, y is dependent list, n is degree of linear regression model \n",
        "# get_graph returns plot in which scattered points are actual given dependent points and curve is predicted values \n",
        "def get_graph (x, y, n):\n",
        "    beta = coefficients(n, x, y, )\n",
        "    #print(beta)\n",
        "    predicted_y = get_y (x, beta, n)\n",
        "    #print(len(train_x))\n",
        "    #print(len(predicted_y))\n",
        "    error = validation_error(predicted_y, y)\n",
        "    print('validation error:' + str(error))\n",
        "    plt.plot(x, predicted_y) \n",
        "    plt.scatter(x, y)\n",
        "    plt.xlabel('independent variable') \n",
        "    plt.ylabel('dependent variable') \n",
        "    plt.title('linear regression') \n",
        "    plt.show() \n",
        "    return error\n",
        "\n",
        "get_graph(year, revenue, 2, )\n",
        "get_graph(year, revenue,1)\n"
      ],
      "execution_count": 18,
      "outputs": [
        {
          "output_type": "stream",
          "text": [
            "validation error:226.98275611671735\n"
          ],
          "name": "stdout"
        },
        {
          "output_type": "display_data",
          "data": {
            "image/png": "[encoded data removed]",
            "text/plain": [
              "<Figure size 432x288 with 1 Axes>"
            ]
          },
          "metadata": {
            "tags": [],
            "needs_background": "light"
          }
        },
        {
          "output_type": "stream",
          "text": [
            "validation error:302.90800000000223\n"
          ],
          "name": "stdout"
        },
        {
          "output_type": "display_data",
          "data": {
            "image/png": "[encoded data removed]",
            "text/plain": [
              "<Figure size 432x288 with 1 Axes>"
            ]
          },
          "metadata": {
            "tags": [],
            "needs_background": "light"
          }
        },
        {
          "output_type": "execute_result",
          "data": {
            "text/plain": [
              "302.90800000000223"
            ]
          },
          "metadata": {
            "tags": []
          },
          "execution_count": 18
        }
      ]
    }
  ]
}